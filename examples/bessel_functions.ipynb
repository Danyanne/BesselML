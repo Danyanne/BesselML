{
 "cells": [
  {
   "cell_type": "markdown",
   "id": "cae0bc2c",
   "metadata": {},
   "source": [
    "This part is diving into the novel approach to approximate Bessel functions, abundent in cosmology as well as in other areas, through symbolic regression approximations"
   ]
  },
  {
   "cell_type": "code",
   "execution_count": 1,
   "id": "f365dba6",
   "metadata": {},
   "outputs": [],
   "source": [
    "%load_ext autoreload\n",
    "%autoreload 2\n",
    "\n",
    "import matplotlib.pyplot as plt\n",
    "import numpy as np\n",
    "from scipy import special\n",
    "import sympy\n",
    "\n",
    "params = {\n",
    "    'figure.figsize': (8.5, 6.5),\n",
    "    'font.style': 'normal',\n",
    "    'axes.labelsize': 25,\n",
    "    'font.size': 16,\n",
    "    'legend.fontsize': 11,\n",
    "    'xtick.labelsize': 16,\n",
    "    'ytick.labelsize': 16,\n",
    "    'xtick.direction': 'in',\n",
    "    'ytick.direction': 'in',\n",
    "    'xtick.major.size': 8,\n",
    "    'ytick.major.size': 10,\n",
    "    'xtick.minor.size': 4,\n",
    "    'ytick.minor.size': 4,\n",
    "    'xtick.major.width': 1.5,\n",
    "    'ytick.major.width': 1.5,\n",
    "    'font.family': 'serif',\n",
    "    'legend.framealpha': 1,  # Set legend alpha to 1\n",
    "    'legend.borderpad': 0.2,\n",
    "    'xtick.minor.visible': True,\n",
    "    'ytick.minor.visible': True\n",
    "}\n",
    "plt.rcParams.update(params)\n",
    "\n",
    "from BesselML import Problem\n",
    "from BesselML import Solution\n",
    "from BesselML import Promising_solution\n",
    "sympy.init_printing()"
   ]
  }
 ],
 "metadata": {
  "kernelspec": {
   "display_name": "venv",
   "language": "python",
   "name": "python3"
  },
  "language_info": {
   "codemirror_mode": {
    "name": "ipython",
    "version": 3
   },
   "file_extension": ".py",
   "mimetype": "text/x-python",
   "name": "python",
   "nbconvert_exporter": "python",
   "pygments_lexer": "ipython3",
   "version": "3.12.3"
  }
 },
 "nbformat": 4,
 "nbformat_minor": 5
}
